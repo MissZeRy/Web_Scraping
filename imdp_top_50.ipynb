{
 "cells": [
  {
   "cell_type": "code",
   "execution_count": 1,
   "id": "5ac8bb40",
   "metadata": {},
   "outputs": [],
   "source": [
    "import pandas as pd\n",
    "import requests\n",
    "from gazpacho import Soup\n",
    "import numpy as np"
   ]
  },
  {
   "attachments": {},
   "cell_type": "markdown",
   "id": "cb26aae4",
   "metadata": {},
   "source": [
    "# Extract"
   ]
  },
  {
   "cell_type": "code",
   "execution_count": 2,
   "id": "552f9c31",
   "metadata": {},
   "outputs": [],
   "source": [
    "url = 'https://www.imdb.com/search/title/?groups=top_100&sort=user_rating,desc'"
   ]
  },
  {
   "cell_type": "code",
   "execution_count": 3,
   "id": "e6646ea9",
   "metadata": {},
   "outputs": [],
   "source": [
    "request = requests.get(url)"
   ]
  },
  {
   "cell_type": "code",
   "execution_count": 4,
   "id": "e8c554dc",
   "metadata": {},
   "outputs": [],
   "source": [
    "imdb = Soup(request.text)"
   ]
  },
  {
   "cell_type": "code",
   "execution_count": 5,
   "id": "b970c948",
   "metadata": {},
   "outputs": [],
   "source": [
    "movies = []"
   ]
  },
  {
   "cell_type": "code",
   "execution_count": 6,
   "id": "bc3185af",
   "metadata": {
    "scrolled": true
   },
   "outputs": [],
   "source": [
    "# get movie name\n",
    "for movie in imdb.find('h3',{'class':'lister-item-header'}):\n",
    "    movies.append(movie.strip())"
   ]
  },
  {
   "cell_type": "code",
   "execution_count": 7,
   "id": "bfe0d1ce",
   "metadata": {},
   "outputs": [],
   "source": [
    "rank = []"
   ]
  },
  {
   "cell_type": "code",
   "execution_count": 8,
   "id": "495ee4da",
   "metadata": {},
   "outputs": [],
   "source": [
    "# get ranking\n",
    "for i in movies:\n",
    "    rank.append(i.split('.')[0])"
   ]
  },
  {
   "cell_type": "code",
   "execution_count": 9,
   "id": "f2e4e4a4",
   "metadata": {},
   "outputs": [],
   "source": [
    "runtime = []"
   ]
  },
  {
   "cell_type": "code",
   "execution_count": 10,
   "id": "9d30cba5",
   "metadata": {},
   "outputs": [],
   "source": [
    "# get time\n",
    "for time in imdb.find('span',{'class':'runtime'}):\n",
    "    runtime.append(time.strip())"
   ]
  },
  {
   "cell_type": "code",
   "execution_count": 11,
   "id": "8ff286bf",
   "metadata": {},
   "outputs": [],
   "source": [
    "types = []"
   ]
  },
  {
   "cell_type": "code",
   "execution_count": 12,
   "id": "69186110",
   "metadata": {},
   "outputs": [],
   "source": [
    "# get type of movie\n",
    "for t in imdb.find('span',{'class':'genre'}):\n",
    "    types.append(t.strip())"
   ]
  },
  {
   "cell_type": "code",
   "execution_count": 13,
   "id": "f3e97289",
   "metadata": {},
   "outputs": [],
   "source": [
    "description= []"
   ]
  },
  {
   "cell_type": "code",
   "execution_count": 14,
   "id": "8bdff9ef",
   "metadata": {},
   "outputs": [],
   "source": [
    "for idx, i in enumerate(imdb.find('p',{'class':'text-muted'})):\n",
    "    if (idx % 2) ==1 :\n",
    "        description.append(i.strip())"
   ]
  },
  {
   "cell_type": "code",
   "execution_count": 15,
   "id": "6c64e007",
   "metadata": {},
   "outputs": [],
   "source": [
    "votes = []\n",
    "gross = []"
   ]
  },
  {
   "cell_type": "code",
   "execution_count": 16,
   "id": "b1da0412",
   "metadata": {},
   "outputs": [],
   "source": [
    "for i in imdb.find('p',{'class':'sort-num_votes-visible'}):\n",
    "#     votes.append(t.strip())\n",
    "    num_votes = i.strip()\n",
    "    vote = num_votes.split(' | ')\n",
    "    votes.append(vote[0])\n",
    "    gross.append(vote[1])"
   ]
  },
  {
   "cell_type": "code",
   "execution_count": 17,
   "id": "e5a38b92",
   "metadata": {},
   "outputs": [
    {
     "data": {
      "text/plain": [
       "['Votes: 2,747,979',\n",
       " 'Votes: 1,911,287',\n",
       " 'Votes: 62,493',\n",
       " 'Votes: 2,720,714',\n",
       " 'Votes: 1,386,096']"
      ]
     },
     "execution_count": 17,
     "metadata": {},
     "output_type": "execute_result"
    }
   ],
   "source": [
    "votes[:5]"
   ]
  },
  {
   "cell_type": "code",
   "execution_count": 18,
   "id": "52be37cb",
   "metadata": {},
   "outputs": [
    {
     "data": {
      "text/plain": [
       "['Gross: $28.34M',\n",
       " 'Gross: $134.97M',\n",
       " 'Top 250: #15',\n",
       " 'Gross: $534.86M',\n",
       " 'Gross: $96.90M']"
      ]
     },
     "execution_count": 18,
     "metadata": {},
     "output_type": "execute_result"
    }
   ],
   "source": [
    "gross[:5]"
   ]
  },
  {
   "attachments": {},
   "cell_type": "markdown",
   "id": "162d3d37",
   "metadata": {},
   "source": [
    "# Transform "
   ]
  },
  {
   "cell_type": "code",
   "execution_count": 19,
   "id": "4cb79994",
   "metadata": {},
   "outputs": [],
   "source": [
    "dict = {'rank':rank,'movie': movies, 'runtime(min)': runtime,'types':types,'votes':votes,'gross(M)':gross,'description':description}"
   ]
  },
  {
   "cell_type": "code",
   "execution_count": 20,
   "id": "e451e94b",
   "metadata": {},
   "outputs": [],
   "source": [
    "# create dataframe\n",
    "df = pd.DataFrame(dict)"
   ]
  },
  {
   "cell_type": "code",
   "execution_count": 21,
   "id": "fc711860",
   "metadata": {},
   "outputs": [
    {
     "data": {
      "text/html": [
       "<div>\n",
       "<style scoped>\n",
       "    .dataframe tbody tr th:only-of-type {\n",
       "        vertical-align: middle;\n",
       "    }\n",
       "\n",
       "    .dataframe tbody tr th {\n",
       "        vertical-align: top;\n",
       "    }\n",
       "\n",
       "    .dataframe thead th {\n",
       "        text-align: right;\n",
       "    }\n",
       "</style>\n",
       "<table border=\"1\" class=\"dataframe\">\n",
       "  <thead>\n",
       "    <tr style=\"text-align: right;\">\n",
       "      <th></th>\n",
       "      <th>rank</th>\n",
       "      <th>movie</th>\n",
       "      <th>runtime(min)</th>\n",
       "      <th>types</th>\n",
       "      <th>votes</th>\n",
       "      <th>gross(M)</th>\n",
       "      <th>description</th>\n",
       "    </tr>\n",
       "  </thead>\n",
       "  <tbody>\n",
       "    <tr>\n",
       "      <th>0</th>\n",
       "      <td>1</td>\n",
       "      <td>1. The Shawshank Redemption (1994)</td>\n",
       "      <td>142 min</td>\n",
       "      <td>Drama</td>\n",
       "      <td>Votes: 2,747,979</td>\n",
       "      <td>Gross: $28.34M</td>\n",
       "      <td>Over the course of several years, two convicts...</td>\n",
       "    </tr>\n",
       "    <tr>\n",
       "      <th>1</th>\n",
       "      <td>2</td>\n",
       "      <td>2. The Godfather (1972)</td>\n",
       "      <td>175 min</td>\n",
       "      <td>Crime, Drama</td>\n",
       "      <td>Votes: 1,911,287</td>\n",
       "      <td>Gross: $134.97M</td>\n",
       "      <td>Don Vito Corleone, head of a mafia family, dec...</td>\n",
       "    </tr>\n",
       "    <tr>\n",
       "      <th>2</th>\n",
       "      <td>3</td>\n",
       "      <td>3. Spider-Man: Across the Spider-Verse (2023)</td>\n",
       "      <td>140 min</td>\n",
       "      <td>Animation, Action, Adventure</td>\n",
       "      <td>Votes: 62,493</td>\n",
       "      <td>Top 250: #15</td>\n",
       "      <td>Miles Morales catapults across the Multiverse,...</td>\n",
       "    </tr>\n",
       "    <tr>\n",
       "      <th>3</th>\n",
       "      <td>4</td>\n",
       "      <td>4. The Dark Knight (2008)</td>\n",
       "      <td>152 min</td>\n",
       "      <td>Action, Crime, Drama</td>\n",
       "      <td>Votes: 2,720,714</td>\n",
       "      <td>Gross: $534.86M</td>\n",
       "      <td>When the menace known as the Joker wreaks havo...</td>\n",
       "    </tr>\n",
       "    <tr>\n",
       "      <th>4</th>\n",
       "      <td>5</td>\n",
       "      <td>5. Schindler's List (1993)</td>\n",
       "      <td>195 min</td>\n",
       "      <td>Biography, Drama, History</td>\n",
       "      <td>Votes: 1,386,096</td>\n",
       "      <td>Gross: $96.90M</td>\n",
       "      <td>In German-occupied Poland during World War II,...</td>\n",
       "    </tr>\n",
       "  </tbody>\n",
       "</table>\n",
       "</div>"
      ],
      "text/plain": [
       "  rank                                          movie runtime(min)   \n",
       "0    1             1. The Shawshank Redemption (1994)      142 min  \\\n",
       "1    2                        2. The Godfather (1972)      175 min   \n",
       "2    3  3. Spider-Man: Across the Spider-Verse (2023)      140 min   \n",
       "3    4                      4. The Dark Knight (2008)      152 min   \n",
       "4    5                     5. Schindler's List (1993)      195 min   \n",
       "\n",
       "                          types             votes         gross(M)   \n",
       "0                         Drama  Votes: 2,747,979   Gross: $28.34M  \\\n",
       "1                  Crime, Drama  Votes: 1,911,287  Gross: $134.97M   \n",
       "2  Animation, Action, Adventure     Votes: 62,493     Top 250: #15   \n",
       "3          Action, Crime, Drama  Votes: 2,720,714  Gross: $534.86M   \n",
       "4     Biography, Drama, History  Votes: 1,386,096   Gross: $96.90M   \n",
       "\n",
       "                                         description  \n",
       "0  Over the course of several years, two convicts...  \n",
       "1  Don Vito Corleone, head of a mafia family, dec...  \n",
       "2  Miles Morales catapults across the Multiverse,...  \n",
       "3  When the menace known as the Joker wreaks havo...  \n",
       "4  In German-occupied Poland during World War II,...  "
      ]
     },
     "execution_count": 21,
     "metadata": {},
     "output_type": "execute_result"
    }
   ],
   "source": [
    "df.head()"
   ]
  },
  {
   "cell_type": "code",
   "execution_count": 22,
   "id": "e3ef7aa0",
   "metadata": {},
   "outputs": [
    {
     "name": "stdout",
     "output_type": "stream",
     "text": [
      "<class 'pandas.core.frame.DataFrame'>\n",
      "RangeIndex: 50 entries, 0 to 49\n",
      "Data columns (total 7 columns):\n",
      " #   Column        Non-Null Count  Dtype \n",
      "---  ------        --------------  ----- \n",
      " 0   rank          50 non-null     object\n",
      " 1   movie         50 non-null     object\n",
      " 2   runtime(min)  50 non-null     object\n",
      " 3   types         50 non-null     object\n",
      " 4   votes         50 non-null     object\n",
      " 5   gross(M)      50 non-null     object\n",
      " 6   description   50 non-null     object\n",
      "dtypes: object(7)\n",
      "memory usage: 2.9+ KB\n"
     ]
    }
   ],
   "source": [
    "df.info()"
   ]
  },
  {
   "cell_type": "code",
   "execution_count": 23,
   "id": "a0f72234",
   "metadata": {},
   "outputs": [],
   "source": [
    "# Change rank column type\n",
    "df[\"rank\"] = df[\"rank\"].astype('int')"
   ]
  },
  {
   "cell_type": "code",
   "execution_count": 24,
   "id": "7ab8d245",
   "metadata": {},
   "outputs": [],
   "source": [
    "# add year column\n",
    "df['year'] = df['movie'].map(lambda x: x.split(' ')[-1])"
   ]
  },
  {
   "cell_type": "code",
   "execution_count": 25,
   "id": "6c13b6e5",
   "metadata": {},
   "outputs": [],
   "source": [
    "# clean and change year column type\n",
    "df[\"year\"] = df[\"year\"].map(lambda x: x.lstrip('(').rstrip(')')).astype('int')"
   ]
  },
  {
   "cell_type": "code",
   "execution_count": 26,
   "id": "e485db77",
   "metadata": {},
   "outputs": [],
   "source": [
    "# clean and change runtime column type\n",
    "df['runtime(min)'] = df['runtime(min)'].map(lambda x: x.rstrip('min')).astype('int')"
   ]
  },
  {
   "cell_type": "code",
   "execution_count": 27,
   "id": "d45dac7c",
   "metadata": {},
   "outputs": [],
   "source": [
    "# clean and change votes column type\n",
    "df[\"votes\"] = df[\"votes\"].map(lambda x: x.lstrip('Votes: ')).str.replace(',','').astype('int')"
   ]
  },
  {
   "cell_type": "code",
   "execution_count": 28,
   "id": "a38050e1",
   "metadata": {},
   "outputs": [],
   "source": [
    "# clean and change gross column type\n",
    "df[\"gross(M)\"] = df[\"gross(M)\"].map(lambda x: x.lstrip('Gross: $').rstrip('M'))"
   ]
  },
  {
   "cell_type": "code",
   "execution_count": 29,
   "id": "95131e36",
   "metadata": {},
   "outputs": [],
   "source": [
    "data_null = df['gross(M)'].str.contains('Top')"
   ]
  },
  {
   "cell_type": "code",
   "execution_count": null,
   "id": "e788a851",
   "metadata": {},
   "outputs": [],
   "source": [
    "df['gross(M)'][data_null] = 0"
   ]
  },
  {
   "cell_type": "code",
   "execution_count": 31,
   "id": "73837434",
   "metadata": {},
   "outputs": [],
   "source": [
    "df['gross(M)'] = df['gross(M)'].astype('float')"
   ]
  },
  {
   "cell_type": "code",
   "execution_count": 32,
   "id": "46d62856",
   "metadata": {
    "scrolled": true
   },
   "outputs": [],
   "source": [
    "# clean movie column\n",
    "df[\"movie\"] = df[\"movie\"].str.replace('[^a-zA-Z ]','',regex=True)"
   ]
  },
  {
   "cell_type": "code",
   "execution_count": 33,
   "id": "35bf821a",
   "metadata": {},
   "outputs": [
    {
     "name": "stdout",
     "output_type": "stream",
     "text": [
      "<class 'pandas.core.frame.DataFrame'>\n",
      "RangeIndex: 50 entries, 0 to 49\n",
      "Data columns (total 8 columns):\n",
      " #   Column        Non-Null Count  Dtype  \n",
      "---  ------        --------------  -----  \n",
      " 0   rank          50 non-null     int32  \n",
      " 1   movie         50 non-null     object \n",
      " 2   runtime(min)  50 non-null     int32  \n",
      " 3   types         50 non-null     object \n",
      " 4   votes         50 non-null     int32  \n",
      " 5   gross(M)      50 non-null     float64\n",
      " 6   description   50 non-null     object \n",
      " 7   year          50 non-null     int32  \n",
      "dtypes: float64(1), int32(4), object(3)\n",
      "memory usage: 2.5+ KB\n"
     ]
    }
   ],
   "source": [
    "df.info()"
   ]
  },
  {
   "cell_type": "code",
   "execution_count": 34,
   "id": "dcc43e5f",
   "metadata": {},
   "outputs": [
    {
     "data": {
      "text/html": [
       "<div>\n",
       "<style scoped>\n",
       "    .dataframe tbody tr th:only-of-type {\n",
       "        vertical-align: middle;\n",
       "    }\n",
       "\n",
       "    .dataframe tbody tr th {\n",
       "        vertical-align: top;\n",
       "    }\n",
       "\n",
       "    .dataframe thead th {\n",
       "        text-align: right;\n",
       "    }\n",
       "</style>\n",
       "<table border=\"1\" class=\"dataframe\">\n",
       "  <thead>\n",
       "    <tr style=\"text-align: right;\">\n",
       "      <th></th>\n",
       "      <th>rank</th>\n",
       "      <th>movie</th>\n",
       "      <th>runtime(min)</th>\n",
       "      <th>types</th>\n",
       "      <th>votes</th>\n",
       "      <th>gross(M)</th>\n",
       "      <th>description</th>\n",
       "      <th>year</th>\n",
       "    </tr>\n",
       "  </thead>\n",
       "  <tbody>\n",
       "    <tr>\n",
       "      <th>0</th>\n",
       "      <td>1</td>\n",
       "      <td>The Shawshank Redemption</td>\n",
       "      <td>142</td>\n",
       "      <td>Drama</td>\n",
       "      <td>2747979</td>\n",
       "      <td>28.34</td>\n",
       "      <td>Over the course of several years, two convicts...</td>\n",
       "      <td>1994</td>\n",
       "    </tr>\n",
       "    <tr>\n",
       "      <th>1</th>\n",
       "      <td>2</td>\n",
       "      <td>The Godfather</td>\n",
       "      <td>175</td>\n",
       "      <td>Crime, Drama</td>\n",
       "      <td>1911287</td>\n",
       "      <td>134.97</td>\n",
       "      <td>Don Vito Corleone, head of a mafia family, dec...</td>\n",
       "      <td>1972</td>\n",
       "    </tr>\n",
       "    <tr>\n",
       "      <th>2</th>\n",
       "      <td>3</td>\n",
       "      <td>SpiderMan Across the SpiderVerse</td>\n",
       "      <td>140</td>\n",
       "      <td>Animation, Action, Adventure</td>\n",
       "      <td>62493</td>\n",
       "      <td>0.00</td>\n",
       "      <td>Miles Morales catapults across the Multiverse,...</td>\n",
       "      <td>2023</td>\n",
       "    </tr>\n",
       "    <tr>\n",
       "      <th>3</th>\n",
       "      <td>4</td>\n",
       "      <td>The Dark Knight</td>\n",
       "      <td>152</td>\n",
       "      <td>Action, Crime, Drama</td>\n",
       "      <td>2720714</td>\n",
       "      <td>534.86</td>\n",
       "      <td>When the menace known as the Joker wreaks havo...</td>\n",
       "      <td>2008</td>\n",
       "    </tr>\n",
       "    <tr>\n",
       "      <th>4</th>\n",
       "      <td>5</td>\n",
       "      <td>Schindlers List</td>\n",
       "      <td>195</td>\n",
       "      <td>Biography, Drama, History</td>\n",
       "      <td>1386096</td>\n",
       "      <td>96.90</td>\n",
       "      <td>In German-occupied Poland during World War II,...</td>\n",
       "      <td>1993</td>\n",
       "    </tr>\n",
       "  </tbody>\n",
       "</table>\n",
       "</div>"
      ],
      "text/plain": [
       "   rank                               movie  runtime(min)   \n",
       "0     1           The Shawshank Redemption            142  \\\n",
       "1     2                      The Godfather            175   \n",
       "2     3   SpiderMan Across the SpiderVerse            140   \n",
       "3     4                    The Dark Knight            152   \n",
       "4     5                    Schindlers List            195   \n",
       "\n",
       "                          types    votes  gross(M)   \n",
       "0                         Drama  2747979     28.34  \\\n",
       "1                  Crime, Drama  1911287    134.97   \n",
       "2  Animation, Action, Adventure    62493      0.00   \n",
       "3          Action, Crime, Drama  2720714    534.86   \n",
       "4     Biography, Drama, History  1386096     96.90   \n",
       "\n",
       "                                         description  year  \n",
       "0  Over the course of several years, two convicts...  1994  \n",
       "1  Don Vito Corleone, head of a mafia family, dec...  1972  \n",
       "2  Miles Morales catapults across the Multiverse,...  2023  \n",
       "3  When the menace known as the Joker wreaks havo...  2008  \n",
       "4  In German-occupied Poland during World War II,...  1993  "
      ]
     },
     "execution_count": 34,
     "metadata": {},
     "output_type": "execute_result"
    }
   ],
   "source": [
    "df.head()"
   ]
  },
  {
   "attachments": {},
   "cell_type": "markdown",
   "id": "7690109a",
   "metadata": {},
   "source": [
    "# Load"
   ]
  },
  {
   "cell_type": "code",
   "execution_count": 35,
   "id": "85e34c30",
   "metadata": {},
   "outputs": [],
   "source": [
    "import mysql.connector"
   ]
  },
  {
   "cell_type": "code",
   "execution_count": 36,
   "id": "18be931d",
   "metadata": {},
   "outputs": [],
   "source": [
    "conn = mysql.connector.connect(\n",
    "    host = \"localhost\",\n",
    "    user = \"root\",\n",
    "    password = \"\",\n",
    "    database = \"movie_ranking\"\n",
    ")"
   ]
  },
  {
   "cell_type": "code",
   "execution_count": 37,
   "id": "7c561135",
   "metadata": {},
   "outputs": [],
   "source": [
    "cursor = conn.cursor()"
   ]
  },
  {
   "cell_type": "code",
   "execution_count": 38,
   "id": "41225729",
   "metadata": {},
   "outputs": [],
   "source": [
    "query = \"\"\"CREATE TABLE IF NOT EXISTS imdb_ranking (\n",
    "            id INT PRIMARY KEY AUTO_INCREMENT, \n",
    "            rank INT, \n",
    "            movie VARCHAR(225), \n",
    "            runtime_min INT, \n",
    "            types VARCHAR(225),\n",
    "            gross_million FlOAT, \n",
    "            description VARCHAR(225), \n",
    "            year INT)\"\"\""
   ]
  },
  {
   "cell_type": "code",
   "execution_count": 39,
   "id": "a0245fa3",
   "metadata": {},
   "outputs": [],
   "source": [
    "cursor.execute(query)\n"
   ]
  },
  {
   "cell_type": "code",
   "execution_count": 40,
   "id": "6457e8f0",
   "metadata": {},
   "outputs": [],
   "source": [
    "query = 'INSERT INTO imdb_ranking (rank, movie, runtime_min, types, gross_million, description, year) VALUES (%s,%s,%s,%s,%s,%s,%s)'"
   ]
  },
  {
   "cell_type": "code",
   "execution_count": 41,
   "id": "eb8842f4",
   "metadata": {},
   "outputs": [],
   "source": [
    "for index, row in df.iterrows():\n",
    "        rank = row['rank']\n",
    "        movie = row['movie']\n",
    "        runtime_min = row['runtime(min)']\n",
    "        types = row['types']\n",
    "        gross_million = row['gross(M)']\n",
    "        description = row['description']\n",
    "        year = row['year']\n",
    "        cursor.execute(query, (rank, movie, runtime_min, types, gross_million, description, year))"
   ]
  },
  {
   "cell_type": "code",
   "execution_count": 42,
   "id": "ad6055d8",
   "metadata": {},
   "outputs": [],
   "source": [
    "conn.commit()\n",
    "cursor.close()\n",
    "conn.close()"
   ]
  },
  {
   "cell_type": "code",
   "execution_count": 43,
   "id": "ae0483dd",
   "metadata": {},
   "outputs": [],
   "source": [
    "#save to csv\n",
    "df.to_csv('imdb_movie.csv')"
   ]
  },
  {
   "cell_type": "code",
   "execution_count": null,
   "id": "97d207df",
   "metadata": {},
   "outputs": [],
   "source": []
  }
 ],
 "metadata": {
  "kernelspec": {
   "display_name": "Python 3 (ipykernel)",
   "language": "python",
   "name": "python3"
  },
  "language_info": {
   "codemirror_mode": {
    "name": "ipython",
    "version": 3
   },
   "file_extension": ".py",
   "mimetype": "text/x-python",
   "name": "python",
   "nbconvert_exporter": "python",
   "pygments_lexer": "ipython3",
   "version": "3.11.2"
  }
 },
 "nbformat": 4,
 "nbformat_minor": 5
}
